{
 "cells": [
  {
   "cell_type": "code",
   "execution_count": 4,
   "metadata": {},
   "outputs": [
    {
     "name": "stdout",
     "output_type": "stream",
     "text": [
      "Processing completed. 'new_metadata.csv' has been created.\n"
     ]
    }
   ],
   "source": [
    "import pandas as pd\n",
    "\n",
    "# metadata.csv 파일 불러오기\n",
    "metadata = pd.read_csv('metadata.csv')\n",
    "\n",
    "# 첫 번째 열의 데이터를 -로 파싱하고 마지막 토큰만 남기기\n",
    "metadata.iloc[:, 0] = metadata.iloc[:, 0].apply(lambda x: x.split('-')[-1])\n",
    "\n",
    "# 처리된 데이터 저장\n",
    "metadata.to_csv('metadata.csv', index=False)\n",
    "\n",
    "# video_dynamics_results.csv 파일 불러오기\n",
    "video_dynamics_results = pd.read_csv('video_dynamics_results.csv')\n",
    "\n",
    "# 첫 번째 열의 데이터를 -로 파싱하고 마지막 토큰만 남기기\n",
    "video_dynamics_results.iloc[:, 0] = video_dynamics_results.iloc[:, 0].apply(lambda x: x.split('-')[-1])\n",
    "\n",
    "# 처리된 데이터 저장\n",
    "video_dynamics_results.to_csv('video_dynamics_results.csv', index=False)\n",
    "\n",
    "# metadata.csv의 첫 번째 열 데이터와 video_dynamics_results.csv의 첫 번째 열 데이터를 비교\n",
    "# video_dynamics_results.csv의 첫 번째 열 데이터와 일치하는 첫 번째 열 데이터가 있는 metadata.csv의 행만 추출\n",
    "matching_rows = metadata[metadata.iloc[:, 0].isin(video_dynamics_results.iloc[:, 0])]\n",
    "\n",
    "# 추출된 데이터를 new_metadata.csv로 저장\n",
    "matching_rows.to_csv('new_metadata.csv', index=False)\n",
    "\n",
    "print(\"Processing completed. 'new_metadata.csv' has been created.\")"
   ]
  }
 ],
 "metadata": {
  "kernelspec": {
   "display_name": "Python 3",
   "language": "python",
   "name": "python3"
  },
  "language_info": {
   "codemirror_mode": {
    "name": "ipython",
    "version": 3
   },
   "file_extension": ".py",
   "mimetype": "text/x-python",
   "name": "python",
   "nbconvert_exporter": "python",
   "pygments_lexer": "ipython3",
   "version": "3.10.12"
  }
 },
 "nbformat": 4,
 "nbformat_minor": 2
}
